{
 "cells": [
  {
   "cell_type": "code",
   "execution_count": null,
   "id": "7ba5aad9",
   "metadata": {},
   "outputs": [],
   "source": [
    "#Introduction to List datatype\n",
    "    colletion of items declared in a particular order\n",
    "   Classification:\n",
    "    calssified a Mutable data type\n",
    "    ## How to  define the list?\n",
    "   using the Square bracet"
   ]
  },
  {
   "cell_type": "code",
   "execution_count": 28,
   "id": "c5e77c91",
   "metadata": {},
   "outputs": [
    {
     "name": "stdout",
     "output_type": "stream",
     "text": [
      "['arthi', 'anil', 'sunil', 'manasi', 'radhika', 'harsha']\n"
     ]
    }
   ],
   "source": [
    "students= ['arthi','anil','sunil','manasi','radhika', 'harsha']\n",
    "print(students)"
   ]
  },
  {
   "cell_type": "code",
   "execution_count": 29,
   "id": "93aecdf6",
   "metadata": {},
   "outputs": [
    {
     "data": {
      "text/plain": [
       "list"
      ]
     },
     "execution_count": 29,
     "metadata": {},
     "output_type": "execute_result"
    }
   ],
   "source": [
    "# how to know which data type ?\n",
    "type(students)"
   ]
  },
  {
   "cell_type": "code",
   "execution_count": null,
   "id": "d5d1023d",
   "metadata": {},
   "outputs": [],
   "source": [
    "# how to access particular name fron the above list? *****\n",
    "Introduction to Indexing.\n",
    "0,1,2,3,4,5,...n (names will be assigned from 0,1,2,3,4,...n)\n"
   ]
  },
  {
   "cell_type": "code",
   "execution_count": 30,
   "id": "87568997",
   "metadata": {},
   "outputs": [
    {
     "name": "stdout",
     "output_type": "stream",
     "text": [
      "manasi\n"
     ]
    }
   ],
   "source": [
    "# find out where manasi in the list?\n",
    "print (students[3])"
   ]
  },
  {
   "cell_type": "code",
   "execution_count": null,
   "id": "3e34a0ec",
   "metadata": {},
   "outputs": [],
   "source": [
    "# 1. How to add new elements to the list?\n",
    "#2. how to modify the elements in the list?\n",
    "#3. how to delete the elements in the list?\n",
    "There are several methods available to manage the list. \n"
   ]
  },
  {
   "cell_type": "code",
   "execution_count": 31,
   "id": "44ffc224",
   "metadata": {},
   "outputs": [
    {
     "name": "stdout",
     "output_type": "stream",
     "text": [
      "['arthi', 'anil', 'sunil', 'manasi', 'radhika', 'harsha', 'shruthi']\n"
     ]
    }
   ],
   "source": [
    "# Methods 1.- Append\n",
    "# if I want to add shruthi to the list i will write it as\n",
    "students.append(\"shruthi\")\n",
    "print(students)"
   ]
  },
  {
   "cell_type": "code",
   "execution_count": null,
   "id": "0b10757b",
   "metadata": {},
   "outputs": [],
   "source": [
    "# req=If i want to add harshini to the third position in the index then I have to be very particular in writing the code\n",
    " # so in that case I have to use \n",
    "\n",
    "#      Insert"
   ]
  },
  {
   "cell_type": "code",
   "execution_count": 32,
   "id": "14bd2c71",
   "metadata": {},
   "outputs": [
    {
     "name": "stdout",
     "output_type": "stream",
     "text": [
      "['arthi', 'anil', 'sunil', 'harshini', 'manasi', 'radhika', 'harsha', 'shruthi']\n"
     ]
    }
   ],
   "source": [
    "#Method 2:Insert*****\n",
    "\n",
    "students.insert(3,\"harshini\")\n",
    "print(students)"
   ]
  },
  {
   "cell_type": "code",
   "execution_count": 33,
   "id": "cc87dcab",
   "metadata": {},
   "outputs": [
    {
     "name": "stdout",
     "output_type": "stream",
     "text": [
      "['arthi', 'anil', 'sunil', 'harshini', 'pallavi', 'manasi', 'radhika', 'harsha', 'shruthi']\n"
     ]
    }
   ],
   "source": [
    "students.insert(4,\"pallavi\")\n",
    "print(students)"
   ]
  },
  {
   "cell_type": "code",
   "execution_count": 34,
   "id": "b4dd97e7",
   "metadata": {},
   "outputs": [
    {
     "name": "stdout",
     "output_type": "stream",
     "text": [
      "pallavi\n"
     ]
    }
   ],
   "source": [
    "print(students[4])"
   ]
  },
  {
   "cell_type": "code",
   "execution_count": 35,
   "id": "ffc75c03",
   "metadata": {},
   "outputs": [
    {
     "name": "stdout",
     "output_type": "stream",
     "text": [
      "harsha\n"
     ]
    }
   ],
   "source": [
    "print(students[7])"
   ]
  },
  {
   "cell_type": "code",
   "execution_count": 36,
   "id": "80e24d95",
   "metadata": {},
   "outputs": [],
   "source": [
    "students.append(\"samruthi\")"
   ]
  },
  {
   "cell_type": "code",
   "execution_count": 37,
   "id": "f46a6202",
   "metadata": {},
   "outputs": [
    {
     "name": "stdout",
     "output_type": "stream",
     "text": [
      "['arthi', 'anil', 'sunil', 'harshini', 'pallavi', 'manasi', 'radhika', 'harsha', 'shruthi', 'samruthi']\n"
     ]
    }
   ],
   "source": [
    "print(students)"
   ]
  },
  {
   "cell_type": "code",
   "execution_count": 38,
   "id": "2c466a89",
   "metadata": {},
   "outputs": [
    {
     "name": "stdout",
     "output_type": "stream",
     "text": [
      "['arthi', 'anil', 'sunil', 'harshini', 'pallavi', 'manasi', 'senthil', 'radhika', 'harsha', 'shruthi', 'samruthi']\n"
     ]
    }
   ],
   "source": [
    "students.insert(6,\"senthil\")\n",
    "print(students)"
   ]
  },
  {
   "cell_type": "code",
   "execution_count": null,
   "id": "02115792",
   "metadata": {},
   "outputs": [],
   "source": [
    "##Interview: Difference between Append and Insert in a list?\n",
    "Append : It add elements at the end of the list.\n",
    "Insert: It add elements where we intend to add.(where and which position we intend to add (second,third etc))"
   ]
  },
  {
   "cell_type": "code",
   "execution_count": null,
   "id": "a43c7c60",
   "metadata": {},
   "outputs": [],
   "source": [
    "# How to modify elements in a list?\n",
    "# Question: Want to change \"pallavi\" name to \"shandavi\""
   ]
  },
  {
   "cell_type": "code",
   "execution_count": 39,
   "id": "176904d3",
   "metadata": {},
   "outputs": [
    {
     "name": "stdout",
     "output_type": "stream",
     "text": [
      "pallavi\n"
     ]
    }
   ],
   "source": [
    "#Ans:\n",
    "print(students[4])"
   ]
  },
  {
   "cell_type": "code",
   "execution_count": 41,
   "id": "7890dd63",
   "metadata": {},
   "outputs": [
    {
     "name": "stdout",
     "output_type": "stream",
     "text": [
      "['arthi', 'anil', 'sunil', 'harshini', 'shandavi', 'manasi', 'senthil', 'radhika', 'harsha', 'shruthi', 'samruthi']\n"
     ]
    }
   ],
   "source": [
    "# Modifying pallavi to shandavi\n",
    "students[4]='shandavi'\n",
    "print(students)"
   ]
  },
  {
   "cell_type": "code",
   "execution_count": 44,
   "id": "b2f396b9",
   "metadata": {},
   "outputs": [
    {
     "name": "stdout",
     "output_type": "stream",
     "text": [
      "['arthi', 'anil', 'sunil', 'harshini', 'shandavi', 'manasi', 'senthil', 'radhika', 'harsha', 'shruthi', 'samruthi', 'uma']\n"
     ]
    }
   ],
   "source": [
    "students.append('uma')\n",
    "print(students)"
   ]
  },
  {
   "cell_type": "code",
   "execution_count": 45,
   "id": "0b85772a",
   "metadata": {},
   "outputs": [],
   "source": [
    "students.append(\"hema\")"
   ]
  },
  {
   "cell_type": "code",
   "execution_count": 46,
   "id": "06def8b8",
   "metadata": {},
   "outputs": [
    {
     "name": "stdout",
     "output_type": "stream",
     "text": [
      "['arthi', 'anil', 'sunil', 'harshini', 'shandavi', 'manasi', 'senthil', 'radhika', 'harsha', 'shruthi', 'samruthi', 'uma', 'hema']\n"
     ]
    }
   ],
   "source": [
    "print(students)"
   ]
  },
  {
   "cell_type": "code",
   "execution_count": 48,
   "id": "3b7d5126",
   "metadata": {},
   "outputs": [
    {
     "name": "stdout",
     "output_type": "stream",
     "text": [
      "shandavi\n"
     ]
    }
   ],
   "source": [
    "print(students[4])"
   ]
  },
  {
   "cell_type": "code",
   "execution_count": 50,
   "id": "dc85ee68",
   "metadata": {},
   "outputs": [
    {
     "name": "stdout",
     "output_type": "stream",
     "text": [
      "['arthi', 'anil', 'sunil', 'harshini', 'sweety', 'shandavi', 'manasi', 'senthil', 'radhika', 'harsha', 'shruthi', 'samruthi', 'uma', 'hema']\n"
     ]
    }
   ],
   "source": [
    "students.insert(4,\"sweety\")\n",
    "print(students)"
   ]
  },
  {
   "cell_type": "code",
   "execution_count": 51,
   "id": "50965de1",
   "metadata": {},
   "outputs": [
    {
     "name": "stdout",
     "output_type": "stream",
     "text": [
      "senthil\n"
     ]
    }
   ],
   "source": [
    "print(students[7])\n"
   ]
  },
  {
   "cell_type": "code",
   "execution_count": 52,
   "id": "4e12614a",
   "metadata": {},
   "outputs": [
    {
     "name": "stdout",
     "output_type": "stream",
     "text": [
      "radhika\n"
     ]
    }
   ],
   "source": [
    "\n",
    "print(students[8])"
   ]
  },
  {
   "cell_type": "code",
   "execution_count": 53,
   "id": "24f51976",
   "metadata": {},
   "outputs": [
    {
     "name": "stdout",
     "output_type": "stream",
     "text": [
      "['arthi', 'anil', 'sunil', 'harshini', 'sweety', 'shandavi', 'manasi', 'senthil', 'swathi', 'harsha', 'shruthi', 'samruthi', 'uma', 'hema']\n"
     ]
    }
   ],
   "source": [
    "#Modify elements\n",
    "students[8]='swathi'\n",
    "print(students)"
   ]
  },
  {
   "cell_type": "code",
   "execution_count": 54,
   "id": "7d6b57f2",
   "metadata": {},
   "outputs": [],
   "source": [
    "#how to delete the element in a list?\n",
    "#Want to delete shandavi from list\n",
    "# Del**\n",
    "del students[0]\n"
   ]
  },
  {
   "cell_type": "code",
   "execution_count": 55,
   "id": "459a5764",
   "metadata": {},
   "outputs": [
    {
     "name": "stdout",
     "output_type": "stream",
     "text": [
      "['anil', 'sunil', 'harshini', 'sweety', 'shandavi', 'manasi', 'senthil', 'swathi', 'harsha', 'shruthi', 'samruthi', 'uma', 'hema']\n"
     ]
    }
   ],
   "source": [
    "print(students)"
   ]
  },
  {
   "cell_type": "code",
   "execution_count": 56,
   "id": "d68ceb3c",
   "metadata": {},
   "outputs": [
    {
     "name": "stdout",
     "output_type": "stream",
     "text": [
      "['anil', 'sunil', 'harshini', 'sweety', 'shandavi', 'manasi', 'senthil', 'harsha', 'shruthi', 'samruthi', 'uma', 'hema']\n"
     ]
    }
   ],
   "source": [
    "del students[7]\n",
    "print(students)"
   ]
  },
  {
   "cell_type": "code",
   "execution_count": 67,
   "id": "96a819db",
   "metadata": {},
   "outputs": [
    {
     "name": "stdout",
     "output_type": "stream",
     "text": [
      "harsha\n",
      "['anil', 'sunil', 'harshini', 'sweety', 'subbu', 'shandavi', 'manasi', 'senthil', 'harsha', 'shruthi', 'samruthi', 'uma', 'hema', 'krishna', 'krishna']\n"
     ]
    }
   ],
   "source": [
    "print(students[8])\n",
    "print(students)"
   ]
  },
  {
   "cell_type": "code",
   "execution_count": 61,
   "id": "3a10bd26",
   "metadata": {},
   "outputs": [
    {
     "name": "stdout",
     "output_type": "stream",
     "text": [
      "['anil', 'sunil', 'harshini', 'sweety', 'shandavi', 'manasi', 'senthil', 'harsha', 'shruthi', 'samruthi', 'uma', 'hema', 'krishna', 'krishna']\n"
     ]
    }
   ],
   "source": [
    "students.append(\"krishna\")\n",
    "print(students)"
   ]
  },
  {
   "cell_type": "code",
   "execution_count": 62,
   "id": "032fa6b2",
   "metadata": {},
   "outputs": [
    {
     "name": "stdout",
     "output_type": "stream",
     "text": [
      "['anil', 'sunil', 'harshini', 'sweety', 'subbu', 'shandavi', 'manasi', 'senthil', 'harsha', 'shruthi', 'samruthi', 'uma', 'hema', 'krishna', 'krishna']\n"
     ]
    }
   ],
   "source": [
    "students.insert(4,\"subbu\")\n",
    "print(students)"
   ]
  },
  {
   "cell_type": "code",
   "execution_count": 66,
   "id": "853b4dc5",
   "metadata": {},
   "outputs": [
    {
     "name": "stdout",
     "output_type": "stream",
     "text": [
      "harsha\n"
     ]
    }
   ],
   "source": [
    "print(students[8])"
   ]
  },
  {
   "cell_type": "code",
   "execution_count": 68,
   "id": "585191fc",
   "metadata": {},
   "outputs": [
    {
     "name": "stdout",
     "output_type": "stream",
     "text": [
      "['anil', 'sunil', 'harshini', 'sweety', 'subbu', 'kanishka', 'shandavi', 'manasi', 'senthil', 'harsha', 'shruthi', 'samruthi', 'uma', 'hema', 'krishna', 'krishna']\n"
     ]
    }
   ],
   "source": [
    "students.insert(5,\"kanishka\")\n",
    "print(students)"
   ]
  },
  {
   "cell_type": "code",
   "execution_count": 69,
   "id": "2f7dc72b",
   "metadata": {},
   "outputs": [
    {
     "name": "stdout",
     "output_type": "stream",
     "text": [
      "['anil', 'sunil', 'harshini', 'sweety', 'subbu', 'kanishka', 'shandavi', 'manasi', 'senthil', 'harsha', 'shruthi', 'samruthi', 'uma', 'hema', 'krishna', 'krishna']\n"
     ]
    }
   ],
   "source": [
    "print(students)"
   ]
  },
  {
   "cell_type": "code",
   "execution_count": 70,
   "id": "a1463eb6",
   "metadata": {},
   "outputs": [
    {
     "name": "stdout",
     "output_type": "stream",
     "text": [
      "manasi\n"
     ]
    }
   ],
   "source": [
    "print(students[7])"
   ]
  },
  {
   "cell_type": "code",
   "execution_count": 71,
   "id": "33fe4235",
   "metadata": {},
   "outputs": [
    {
     "name": "stdout",
     "output_type": "stream",
     "text": [
      "['anil', 'sunil', 'harshini', 'sweety', 'subbu', 'kanishka', 'shandavi', 'russhia', 'senthil', 'harsha', 'shruthi', 'samruthi', 'uma', 'hema', 'krishna', 'krishna']\n"
     ]
    }
   ],
   "source": [
    "students[7]=\"russhia\"\n",
    "print(students)"
   ]
  },
  {
   "cell_type": "code",
   "execution_count": 72,
   "id": "0f3d5c28",
   "metadata": {},
   "outputs": [
    {
     "data": {
      "text/plain": [
       "list"
      ]
     },
     "execution_count": 72,
     "metadata": {},
     "output_type": "execute_result"
    }
   ],
   "source": [
    "type(students)"
   ]
  },
  {
   "cell_type": "code",
   "execution_count": 74,
   "id": "5481025d",
   "metadata": {},
   "outputs": [],
   "source": [
    "del students[7]"
   ]
  },
  {
   "cell_type": "code",
   "execution_count": 75,
   "id": "789bacc6",
   "metadata": {},
   "outputs": [
    {
     "name": "stdout",
     "output_type": "stream",
     "text": [
      "['anil', 'sunil', 'harshini', 'sweety', 'subbu', 'kanishka', 'shandavi', 'senthil', 'harsha', 'shruthi', 'samruthi', 'uma', 'hema', 'krishna', 'krishna']\n"
     ]
    }
   ],
   "source": [
    "print(students)"
   ]
  },
  {
   "cell_type": "code",
   "execution_count": null,
   "id": "4437b30e",
   "metadata": {},
   "outputs": [],
   "source": []
  }
 ],
 "metadata": {
  "kernelspec": {
   "display_name": "Python 3 (ipykernel)",
   "language": "python",
   "name": "python3"
  },
  "language_info": {
   "codemirror_mode": {
    "name": "ipython",
    "version": 3
   },
   "file_extension": ".py",
   "mimetype": "text/x-python",
   "name": "python",
   "nbconvert_exporter": "python",
   "pygments_lexer": "ipython3",
   "version": "3.9.7"
  }
 },
 "nbformat": 4,
 "nbformat_minor": 5
}
